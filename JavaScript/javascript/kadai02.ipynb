{
 "cells": [
  {
   "cell_type": "code",
   "execution_count": 27,
   "metadata": {
    "dotnet_interactive": {
     "language": "javascript"
    },
    "polyglot_notebook": {
     "kernelName": "javascript"
    },
    "vscode": {
     "languageId": "polyglot-notebook"
    }
   },
   "outputs": [
    {
     "data": {
      "text/plain": [
       "[x, y]=[0, 0]"
      ]
     },
     "metadata": {},
     "output_type": "display_data"
    },
    {
     "data": {
      "text/plain": [
       "[x, y]=[10, 10]"
      ]
     },
     "metadata": {},
     "output_type": "display_data"
    },
    {
     "data": {
      "application/json": [
       5,
       10
      ]
     },
     "metadata": {},
     "output_type": "display_data"
    },
    {
     "data": {
      "application/json": [
       15,
       15
      ]
     },
     "metadata": {},
     "output_type": "display_data"
    }
   ],
   "source": [
    "//1.課題-A 引数をプライベート変数に代入する＋ゲッターセッター\n",
    "\n",
    "class Point {\n",
    "    // プライベート変数の定義\n",
    "    #x; // プライベート変数 #x\n",
    "    #y; // プライベート変数 #y\n",
    "\n",
    "    // コンストラクタ\n",
    "    constructor(x = 0, y = 0) {\n",
    "        this.#x = x;\n",
    "        this.#y = y;\n",
    "    }\n",
    "\n",
    "    get x() {\n",
    "        return this.#x;\n",
    "    }\n",
    "\n",
    "    set x(value) {\n",
    "        this.#x = value;\n",
    "    }\n",
    "\n",
    "    get y() {\n",
    "        return this.#y;\n",
    "    }\n",
    "\n",
    "    set y(value) {\n",
    "        this.#y = value;\n",
    "    }\n",
    "}\n",
    "\n",
    "// ▼ 動作テスト用のコード\n",
    "const point1 = new Point();\n",
    "console.log(`[x, y]=[${point1.x}, ${point1.y}]`);  // [x, y]=[0, 0]\n",
    "\n",
    "const point2 = new Point(5, 5);\n",
    "point2.x = 10;\n",
    "point2.y = 10;\n",
    "console.log(`[x, y]=[${point2.x}, ${point2.y}]`);  // [x, y]=[10, 10]\n",
    "\n",
    "\n",
    "\n",
    "//1.課題-B 課題Aを継承+引数を親クラスへ渡す\n",
    "class Robot extends Point{\n",
    "    constructor(x = 0, y = 0) {\n",
    "        super(x, y);\n",
    "    }\n",
    "    moveX(amount) {\n",
    "        this.x += amount;\n",
    "    }\n",
    "    moveY(amount) {\n",
    "        this.y += amount;\n",
    "    }\n",
    "    moveXY(amountX, amountY) {\n",
    "        this.moveX(amountX);\n",
    "        this.moveY(amountY);\n",
    "    }\n",
    "    getPosition() {\n",
    "        return [this.x, this.y];\n",
    "    }\n",
    "}\n",
    "\n",
    "// ▼ 動作テスト用のコード\n",
    "const robot = new Robot();\n",
    "robot.moveX(5);\n",
    "robot.moveY(10);\n",
    "console.log(robot.getPosition()); // [5, 10]\n",
    "robot.moveXY(10, 5);\n",
    "console.log(robot.getPosition()); // [15, 15]\n"
   ]
  },
  {
   "cell_type": "code",
   "execution_count": null,
   "metadata": {
    "dotnet_interactive": {
     "language": "javascript"
    },
    "polyglot_notebook": {
     "kernelName": "javascript"
    },
    "vscode": {
     "languageId": "polyglot-notebook"
    }
   },
   "outputs": [],
   "source": [
    "//2.課題-A\n",
    "class Reservation {\n",
    "    #id;\n",
    "    #data;\n",
    "    #name;\n",
    "\n",
    "    constructor(id,date,name){\n",
    "        #this.id=id;\n",
    "        #this.data=data;\n",
    "        #this.name=name;\n",
    "    }\n",
    "\n",
    "    //ゲッター\n",
    "    get id(){\n",
    "        return this.id;\n",
    "    }\n",
    "    get data(){\n",
    "        return this.data;\n",
    "    }\n",
    "    get name(){\n",
    "        return this.name;\n",
    "    }\n",
    "\n",
    "    //セッター\n",
    "    set data(data){\n",
    "        this.data = data;\n",
    "    }\n",
    "\n",
    "    toString(){\n",
    "        return ([id:this.id, date:this.data(YMD), name:this.name])\n",
    "    }\n",
    "\n",
    "\n",
    "}"
   ]
  },
  {
   "cell_type": "code",
   "execution_count": 28,
   "metadata": {
    "dotnet_interactive": {
     "language": "javascript"
    },
    "polyglot_notebook": {
     "kernelName": "javascript"
    },
    "vscode": {
     "languageId": "polyglot-notebook"
    }
   },
   "outputs": [],
   "source": [
    "const url = \"https://www.googleapis.com/books/v1/volumes/66rnDwAAQBAJ\";\n",
    "(async () => {\n",
    "    try {\n",
    "        const res = await fetch(url);\n",
    "        if (res.ok) {\n",
    "            const data = await res.json();\n",
    "            const {\n",
    "                title,\n",
    "                authors,\n",
    "                publishedDate,\n",
    "                description\n",
    "            } = data[\"volumeInfo\"];\n",
    "            console.log(`書籍名:${title}\\n著者:${authors.join(\",\")}\\n発行日:${publishedDate}\\n説明:${description}`);\n",
    "        }\n",
    "    } catch (error) {\n",
    "        console.log(error);\n",
    "    }\n",
    "})();"
   ]
  }
 ],
 "metadata": {
  "kernelspec": {
   "display_name": ".NET (C#)",
   "language": "C#",
   "name": ".net-csharp"
  },
  "language_info": {
   "name": "python"
  },
  "polyglot_notebook": {
   "kernelInfo": {
    "defaultKernelName": "csharp",
    "items": [
     {
      "aliases": [],
      "name": "csharp"
     }
    ]
   }
  }
 },
 "nbformat": 4,
 "nbformat_minor": 2
}
