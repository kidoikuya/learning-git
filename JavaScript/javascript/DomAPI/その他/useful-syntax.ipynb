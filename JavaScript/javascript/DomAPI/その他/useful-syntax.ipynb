{
 "cells": [
  {
   "cell_type": "code",
   "execution_count": 2,
   "metadata": {
    "dotnet_interactive": {
     "language": "javascript"
    },
    "polyglot_notebook": {
     "kernelName": "javascript"
    },
    "vscode": {
     "languageId": "polyglot-notebook"
    }
   },
   "outputs": [
    {
     "data": {
      "text/plain": [
       "\n",
       "AAA さんへ\n",
       "\n",
       "\tお誕生日おめでとう。\n",
       "\n",
       "BBB より\n"
      ]
     },
     "metadata": {},
     "output_type": "display_data"
    }
   ],
   "source": [
    "const message = `\n",
    "AAA さんへ\n",
    "\n",
    "\tお誕生日おめでとう。\n",
    "\n",
    "BBB より\n",
    "`;\n",
    "console.log(message);"
   ]
  },
  {
   "cell_type": "code",
   "execution_count": 3,
   "metadata": {
    "dotnet_interactive": {
     "language": "javascript"
    },
    "polyglot_notebook": {
     "kernelName": "javascript"
    },
    "vscode": {
     "languageId": "polyglot-notebook"
    }
   },
   "outputs": [
    {
     "data": {
      "text/plain": [
       "ようこそ、田中 太郎さん。"
      ]
     },
     "metadata": {},
     "output_type": "display_data"
    }
   ],
   "source": [
    "const person = {\n",
    "    firstName: \"太郎\",\n",
    "    lastName: \"田中\"\n",
    "}\n",
    "console.log(`ようこそ、${person.lastName} ${person.firstName}さん。`);"
   ]
  },
  {
   "cell_type": "code",
   "execution_count": 16,
   "metadata": {
    "dotnet_interactive": {
     "language": "javascript"
    },
    "polyglot_notebook": {
     "kernelName": "javascript"
    },
    "vscode": {
     "languageId": "polyglot-notebook"
    }
   },
   "outputs": [
    {
     "data": {
      "application/json": {
       "firstName": "太郎",
       "lastName": "田中"
      }
     },
     "metadata": {},
     "output_type": "display_data"
    },
    {
     "data": {
      "text/plain": [
       "太郎"
      ]
     },
     "metadata": {},
     "output_type": "display_data"
    },
    {
     "data": {
      "text/plain": [
       "20"
      ]
     },
     "metadata": {},
     "output_type": "display_data"
    },
    {
     "data": {
      "text/plain": [
       "2003-01-01"
      ]
     },
     "metadata": {},
     "output_type": "display_data"
    },
    {
     "data": {
      "text/plain": []
     },
     "metadata": {},
     "output_type": "display_data"
    },
    {
     "data": {
      "text/plain": [
       "太郎"
      ]
     },
     "metadata": {},
     "output_type": "display_data"
    },
    {
     "data": {
      "text/plain": [
       "20"
      ]
     },
     "metadata": {},
     "output_type": "display_data"
    },
    {
     "data": {
      "text/plain": [
       "2003-01-01"
      ]
     },
     "metadata": {},
     "output_type": "display_data"
    }
   ],
   "source": [
    "const person = {\n",
    "    name: {\n",
    "        firstName: \"太郎\",\n",
    "        lastName: \"田中\"\n",
    "    },\n",
    "    age: 20,\n",
    "    birthday: \"2003-01-01\",\n",
    "    birthplace: \"Yokohama\"\n",
    "}\n",
    "// ▼ オブジェクトと同じ構造で記述する\n",
    "const {\n",
    "    name: {\n",
    "        firstName\n",
    "    },\n",
    "    age,\n",
    "    birthday\n",
    "} = person;\n",
    "\n",
    "console.log(person.name,person.name.firstName, person.age, person.birthday);\n",
    "console.log(name,firstName, age, birthday);"
   ]
  },
  {
   "cell_type": "code",
   "execution_count": 18,
   "metadata": {
    "dotnet_interactive": {
     "language": "javascript"
    },
    "polyglot_notebook": {
     "kernelName": "javascript"
    },
    "vscode": {
     "languageId": "polyglot-notebook"
    }
   },
   "outputs": [
    {
     "data": {
      "text/plain": [
       "こんにちは、田中 太郎さん。"
      ]
     },
     "metadata": {},
     "output_type": "display_data"
    }
   ],
   "source": [
    "// ▼ 引数で渡されたオブジェクトのプロパティを分割代入する\n",
    "function sayHello({firstName, lastName}){\n",
    "    console.log(`こんにちは、${lastName} ${firstName}さん。`);\n",
    "}\n",
    "const person = {\n",
    "    firstName: \"太郎\",\n",
    "    lastName: \"田中\",\n",
    "    age: 20\n",
    "};\n",
    "sayHello(person);"
   ]
  },
  {
   "cell_type": "code",
   "execution_count": 20,
   "metadata": {
    "dotnet_interactive": {
     "language": "javascript"
    },
    "polyglot_notebook": {
     "kernelName": "javascript"
    },
    "vscode": {
     "languageId": "polyglot-notebook"
    }
   },
   "outputs": [
    {
     "data": {
      "application/json": {
       "city": "厚木市",
       "firstName": "太郎",
       "lastName": "湘南",
       "line1": "1-27-6",
       "line2": "本厚木マイビル2F",
       "postcode": "243-0014",
       "prefecture": "神奈川県",
       "town": "旭町"
      }
     },
     "metadata": {},
     "output_type": "display_data"
    }
   ],
   "source": [
    "const nameInfo = {\n",
    "    firstName: \"太郎\",\n",
    "    lastName: \"湘南\"\n",
    "};\n",
    "const addressInfo = {\n",
    "    postcode: \"243-0014\",\n",
    "    prefecture:\"神奈川県\",\n",
    "    city:\"厚木市\",\n",
    "    town:\"旭町\",\n",
    "    line1:\"1-27-6\",\n",
    "    line2:\"本厚木マイビル2F\"\n",
    "};\n",
    "// nameInfo と addressInfo の両方のプロパティをもつオブジェクトが生成される\n",
    "const personInfo = { ...nameInfo, ...addressInfo };\n",
    "console.log(personInfo);"
   ]
  },
  {
   "cell_type": "code",
   "execution_count": 28,
   "metadata": {
    "dotnet_interactive": {
     "language": "javascript"
    },
    "polyglot_notebook": {
     "kernelName": "javascript"
    },
    "vscode": {
     "languageId": "polyglot-notebook"
    }
   },
   "outputs": [
    {
     "data": {
      "text/plain": [
       "\n",
       "田中 様\n",
       "お世話になっております。\n",
       "株式会社湘南ハイテク企画にお問い合わせいただき、誠にありがとうございます。\n",
       "3営業日以内に、担当者の湘南太郎よりご連絡いたしますので 今しばらくお待ちください。\n"
      ]
     },
     "metadata": {},
     "output_type": "display_data"
    }
   ],
   "source": [
    "const userName = \"田中\";\n",
    "const company = {\n",
    "    name: \"株式会社湘南ハイテク企画\",  // 企業名\n",
    "    contactPerson : \"湘南太郎\"  // 担当者の氏名\n",
    "}\n",
    "\n",
    "const message = `\n",
    "${userName} 様\n",
    "お世話になっております。\n",
    "${company.name}にお問い合わせいただき、誠にありがとうございます。\n",
    "3営業日以内に、担当者の${company.contactPerson}よりご連絡いたしますので 今しばらくお待ちください。\n",
    "`;\n",
    "\n",
    "console.log(message);"
   ]
  },
  {
   "cell_type": "code",
   "execution_count": 32,
   "metadata": {
    "dotnet_interactive": {
     "language": "javascript"
    },
    "polyglot_notebook": {
     "kernelName": "javascript"
    },
    "vscode": {
     "languageId": "polyglot-notebook"
    }
   },
   "outputs": [
    {
     "data": {
      "text/plain": [
       "湘南 太郎 さんの職種は システムエンジニア です。"
      ]
     },
     "metadata": {},
     "output_type": "display_data"
    },
    {
     "data": {
      "text/plain": [
       "ハイテク ジロウ さんの職種は テストエンジニア です。"
      ]
     },
     "metadata": {},
     "output_type": "display_data"
    },
    {
     "data": {
      "text/plain": [
       "厚木 三郎 さんの職種は インフラエンジニア です。"
      ]
     },
     "metadata": {},
     "output_type": "display_data"
    },
    {
     "data": {
      "text/plain": [
       "Shk Shirou さんの職種は セールスエンジニア です。"
      ]
     },
     "metadata": {},
     "output_type": "display_data"
    }
   ],
   "source": [
    "const nameList = [\n",
    "    { firstName: \"太郎\", lastName: \"湘南\", occupation: \"システムエンジニア\" },\n",
    "    { firstName: \"ジロウ\", lastName: \"ハイテク\", occupation: \"テストエンジニア\" },\n",
    "    { firstName: \"三郎\", lastName: \"厚木\", occupation: \"インフラエンジニア\" },\n",
    "    { firstName: \"Shirou\", lastName: \"Shk\", occupation: \"セールスエンジニア\" }\n",
    "];\n",
    "\n",
    "/*\n",
    "以下の文で各要素のプロパティが出力されるように分割代入を使って for-of 文 を記述してください。\n",
    "*/\n",
    "\n",
    "for(const{lastName,firstName,occupation} of nameList){\n",
    "console.log(`${lastName} ${firstName} さんの職種は ${occupation} です。`);\n",
    "}\n"
   ]
  },
  {
   "cell_type": "code",
   "execution_count": 58,
   "metadata": {
    "dotnet_interactive": {
     "language": "javascript"
    },
    "polyglot_notebook": {
     "kernelName": "javascript"
    },
    "vscode": {
     "languageId": "polyglot-notebook"
    }
   },
   "outputs": [
    {
     "ename": "Error",
     "evalue": "Assignment to constant variable.",
     "output_type": "error",
     "traceback": [
      "Assignment to constant variable."
     ]
    }
   ],
   "source": [
    "console.log(calculateAverage(1, 2, 3));\n",
    "console.log(calculateAverage(1, 2, 3, 4, 5));\n",
    "console.log(calculateAverage());\n",
    "\n",
    "function calculateAverage(...numbers){\n",
    "    if(numbers.length==0){\n",
    "        return 0\n",
    "    }else{\n",
    "        for(const num of numbers){\n",
    "            num += num;\n",
    "            return num/numbers.length;\n",
    "        }\n",
    "    }\n",
    "}"
   ]
  },
  {
   "cell_type": "code",
   "execution_count": 59,
   "metadata": {
    "dotnet_interactive": {
     "language": "javascript"
    },
    "polyglot_notebook": {
     "kernelName": "javascript"
    },
    "vscode": {
     "languageId": "polyglot-notebook"
    }
   },
   "outputs": [
    {
     "data": {
      "text/plain": [
       "2"
      ]
     },
     "metadata": {},
     "output_type": "display_data"
    },
    {
     "data": {
      "text/plain": [
       "3"
      ]
     },
     "metadata": {},
     "output_type": "display_data"
    },
    {
     "data": {
      "text/plain": [
       "0"
      ]
     },
     "metadata": {},
     "output_type": "display_data"
    }
   ],
   "source": [
    "console.log(calculateAverage(1, 2, 3));\n",
    "console.log(calculateAverage(1, 2, 3, 4, 5));\n",
    "console.log(calculateAverage());\n",
    "\n",
    "function calculateAverage(...numbers){\n",
    "    return numbers.length\n",
    "     && numbers.reduce((prev, num)=> prev + num, 0) / numbers.length;\n",
    "}"
   ]
  }
 ],
 "metadata": {
  "kernelspec": {
   "display_name": ".NET (C#)",
   "language": "C#",
   "name": ".net-csharp"
  },
  "language_info": {
   "name": "python"
  },
  "polyglot_notebook": {
   "kernelInfo": {
    "defaultKernelName": "csharp",
    "items": [
     {
      "aliases": [],
      "name": "csharp"
     }
    ]
   }
  }
 },
 "nbformat": 4,
 "nbformat_minor": 2
}
