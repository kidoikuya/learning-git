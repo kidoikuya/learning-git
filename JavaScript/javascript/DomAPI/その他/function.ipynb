{
 "cells": [
  {
   "cell_type": "code",
   "execution_count": 7,
   "metadata": {
    "dotnet_interactive": {
     "language": "javascript"
    },
    "polyglot_notebook": {
     "kernelName": "javascript"
    },
    "vscode": {
     "languageId": "polyglot-notebook"
    }
   },
   "outputs": [
    {
     "data": {
      "text/plain": [
       "test"
      ]
     },
     "metadata": {},
     "output_type": "display_data"
    }
   ],
   "source": [
    "// ▼ 無名関数全体を()で囲むところがポイント\n",
    "(function(num1, num2){\n",
    "    console.log(num1 + num2);  // 3\n",
    "  })\n",
    "  \n",
    "  console.log(\"test\");\n",
    "  \n",
    "  (1, 2); // 作成した関数を即座に呼び出して実行する"
   ]
  },
  {
   "cell_type": "code",
   "execution_count": 8,
   "metadata": {
    "dotnet_interactive": {
     "language": "javascript"
    },
    "polyglot_notebook": {
     "kernelName": "javascript"
    },
    "vscode": {
     "languageId": "polyglot-notebook"
    }
   },
   "outputs": [
    {
     "data": {
      "text/plain": [
       "3"
      ]
     },
     "metadata": {},
     "output_type": "display_data"
    },
    {
     "data": {
      "text/plain": [
       "3"
      ]
     },
     "metadata": {},
     "output_type": "display_data"
    }
   ],
   "source": [
    "{\n",
    "    // ▼ 関数宣言で作成された関数はブロックスコープが有効でないため\n",
    "    //    この例ではグローバルスコープに属することになる\n",
    "    function add1(n1, n2){\n",
    "      return n1 + n2;\n",
    "    }\n",
    "    // ▼ 関数式（またはアロー関数式）で作成した関数を変数に代入する場合は\n",
    "    //   変数の宣言方式に応じて有効なスコープが決まる\n",
    "    //   この場合はconstで宣言されているためブロックスコープが有効になる\n",
    "    const add2 = function(n1, n2){\n",
    "      return n1 + n2;\n",
    "    };\n",
    "  }\n",
    "  console.log(add1(1, 2));  // 3\n",
    "  console.log(add2(1, 2));  // Error"
   ]
  },
  {
   "cell_type": "code",
   "execution_count": 10,
   "metadata": {
    "dotnet_interactive": {
     "language": "javascript"
    },
    "polyglot_notebook": {
     "kernelName": "javascript"
    },
    "vscode": {
     "languageId": "polyglot-notebook"
    }
   },
   "outputs": [
    {
     "data": {
      "text/plain": [
       "3"
      ]
     },
     "metadata": {},
     "output_type": "display_data"
    },
    {
     "data": {
      "text/plain": [
       "7"
      ]
     },
     "metadata": {},
     "output_type": "display_data"
    }
   ],
   "source": [
    "// ▼ 関数式でadd関数を作成\n",
    "const add = function () {\n",
    "    // this はこの関数の呼び出し方で参照先が変わる\n",
    "    console.log(this.num1 + this.num2);\n",
    "};\n",
    "\n",
    "// ▼ オブジェクトのプロパティにadd関数を設定\n",
    "//    （詳しくは4章で説明します）\n",
    "const obj1 = {\n",
    "    num1: 1,\n",
    "    num2: 2,\n",
    "    add1: add\n",
    "};\n",
    "const obj2 = {\n",
    "    num1: 3,\n",
    "    num2: 4,\n",
    "    add2: add\n",
    "};\n",
    "\n",
    "obj1.add1();  // 3: add関数内のthisは呼び出し元のobj1を参照\n",
    "obj2.add2();  // 7: add関数内のthisは呼び出し元のobj2を参照"
   ]
  },
  {
   "cell_type": "code",
   "execution_count": 13,
   "metadata": {
    "dotnet_interactive": {
     "language": "javascript"
    },
    "polyglot_notebook": {
     "kernelName": "javascript"
    },
    "vscode": {
     "languageId": "polyglot-notebook"
    }
   },
   "outputs": [
    {
     "data": {
      "text/plain": [
       "私の名前はです。"
      ]
     },
     "metadata": {},
     "output_type": "display_data"
    }
   ],
   "source": [
    "const person = {\n",
    "    name:\"田中\",\n",
    "    introduce: () => {  // ◀ アロー関数式\n",
    "      console.log(\"私の名前は\"+this?.name+\"です。\");\n",
    "    }\n",
    "  };\n",
    "  // ▼ オブジェクトから呼び出してもthisはこのオブジェクトを参照していない\n",
    "  person.introduce();  // 私の名前はです。"
   ]
  },
  {
   "cell_type": "code",
   "execution_count": 15,
   "metadata": {
    "dotnet_interactive": {
     "language": "javascript"
    },
    "polyglot_notebook": {
     "kernelName": "javascript"
    },
    "vscode": {
     "languageId": "polyglot-notebook"
    }
   },
   "outputs": [
    {
     "data": {
      "text/plain": [
       "8"
      ]
     },
     "metadata": {},
     "output_type": "display_data"
    },
    {
     "data": {
      "text/plain": [
       "9"
      ]
     },
     "metadata": {},
     "output_type": "display_data"
    }
   ],
   "source": [
    "// ▼ べき乗を返す関数\n",
    "//   引数で指数（exponent）が省略された場合は2で初期化する\n",
    "function power(base, exponent){\n",
    "  if(exponent === undefined) exponent = 2;\n",
    "  return base ** exponent;\n",
    "}\n",
    "console.log(power(2, 3)); // 8\n",
    "console.log(power(3)); // 9: exponentは2で初期化される"
   ]
  },
  {
   "cell_type": "code",
   "execution_count": 21,
   "metadata": {
    "dotnet_interactive": {
     "language": "javascript"
    },
    "polyglot_notebook": {
     "kernelName": "javascript"
    },
    "vscode": {
     "languageId": "polyglot-notebook"
    }
   },
   "outputs": [
    {
     "data": {
      "text/plain": [
       "10"
      ]
     },
     "metadata": {},
     "output_type": "display_data"
    },
    {
     "data": {
      "text/plain": [
       "100"
      ]
     },
     "metadata": {},
     "output_type": "display_data"
    },
    {
     "data": {
      "text/plain": [
       "314"
      ]
     },
     "metadata": {},
     "output_type": "display_data"
    }
   ],
   "source": [
    "const PI = 3.14;\n",
    "\n",
    "/* 関数宣言 */\n",
    "function calcAreaOfTriangle(base,height){\n",
    "    return (base*height)/2;\n",
    "};\n",
    "\n",
    "/* 関数式 */\n",
    "const calcAreaOfSquare = function(side){\n",
    "    return side*side;\n",
    "};\n",
    "\n",
    "/* アロー関数式 */\n",
    "const calcAreaOfCircle = (radius) =>{\n",
    "    return radius*radius*PI;\n",
    "};\n",
    "\n",
    "console.log(calcAreaOfTriangle(10, 2));  // 10\n",
    "console.log(calcAreaOfSquare(10));  // 100\n",
    "console.log(calcAreaOfCircle(10)); // 314"
   ]
  },
  {
   "cell_type": "code",
   "execution_count": 26,
   "metadata": {
    "dotnet_interactive": {
     "language": "javascript"
    },
    "polyglot_notebook": {
     "kernelName": "javascript"
    },
    "vscode": {
     "languageId": "polyglot-notebook"
    }
   },
   "outputs": [
    {
     "data": {
      "text/plain": [
       "60000"
      ]
     },
     "metadata": {},
     "output_type": "display_data"
    },
    {
     "data": {
      "text/plain": [
       "8"
      ]
     },
     "metadata": {},
     "output_type": "display_data"
    }
   ],
   "source": [
    "const product = {\n",
    "    name: \"Game Machine\",  // 製品名\n",
    "    price: 30_000,  // 価格\n",
    "    stockNum: 10,  // 在庫数\n",
    "    // メソッドの定義\n",
    "    sold: function(num) {\n",
    "        this.stockNum -= num;  // stockNumを更新\n",
    "        return num * this.price;  // 売上を計算して返す\n",
    "    }\n",
    "}\n",
    "\n",
    "console.log(product.sold(2));  // 60000\n",
    "console.log(product.stockNum);  // 8\n"
   ]
  }
 ],
 "metadata": {
  "kernelspec": {
   "display_name": ".NET (C#)",
   "language": "C#",
   "name": ".net-csharp"
  },
  "language_info": {
   "name": "python"
  },
  "polyglot_notebook": {
   "kernelInfo": {
    "defaultKernelName": "csharp",
    "items": [
     {
      "aliases": [],
      "name": "csharp"
     }
    ]
   }
  }
 },
 "nbformat": 4,
 "nbformat_minor": 2
}
