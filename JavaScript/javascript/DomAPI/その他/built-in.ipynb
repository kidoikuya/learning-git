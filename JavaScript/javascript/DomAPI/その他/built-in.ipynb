{
 "cells": [
  {
   "cell_type": "code",
   "execution_count": 4,
   "metadata": {
    "dotnet_interactive": {
     "language": "javascript"
    },
    "polyglot_notebook": {
     "kernelName": "javascript"
    },
    "vscode": {
     "languageId": "polyglot-notebook"
    }
   },
   "outputs": [
    {
     "data": {
      "text/plain": [
       "2"
      ]
     },
     "metadata": {},
     "output_type": "display_data"
    },
    {
     "data": {
      "text/plain": [
       "5"
      ]
     },
     "metadata": {},
     "output_type": "display_data"
    },
    {
     "data": {
      "text/plain": [
       "10"
      ]
     },
     "metadata": {},
     "output_type": "display_data"
    },
    {
     "data": {
      "text/plain": [
       "5"
      ]
     },
     "metadata": {},
     "output_type": "display_data"
    },
    {
     "data": {
      "text/plain": [
       "5"
      ]
     },
     "metadata": {},
     "output_type": "display_data"
    },
    {
     "data": {
      "text/plain": [
       "8"
      ]
     },
     "metadata": {},
     "output_type": "display_data"
    },
    {
     "data": {
      "text/plain": [
       "3"
      ]
     },
     "metadata": {},
     "output_type": "display_data"
    },
    {
     "data": {
      "text/plain": [
       "2"
      ]
     },
     "metadata": {},
     "output_type": "display_data"
    },
    {
     "data": {
      "text/plain": [
       "1"
      ]
     },
     "metadata": {},
     "output_type": "display_data"
    },
    {
     "data": {
      "text/plain": [
       "10"
      ]
     },
     "metadata": {},
     "output_type": "display_data"
    }
   ],
   "source": [
    "for(let i = 0; i < 10; i++){\n",
    "    // ▼ random()メソッドで発生させた数値を10倍して\n",
    "    //   0以上10未満の疑似乱数を取得する\n",
    "    const origin = Math.random() * 10;\n",
    "    // ▼ ceil()メソッドで小数点以下を切り上げて整数に変換する\n",
    "    const num = Math.ceil(origin);\n",
    "    console.log(num);\n",
    "  }"
   ]
  },
  {
   "cell_type": "code",
   "execution_count": 5,
   "metadata": {
    "dotnet_interactive": {
     "language": "javascript"
    },
    "polyglot_notebook": {
     "kernelName": "javascript"
    },
    "vscode": {
     "languageId": "polyglot-notebook"
    }
   },
   "outputs": [
    {
     "data": {
      "text/plain": [
       "Fri Oct 25 2024 12:54:30 GMT+0900 (日本標準時)"
      ]
     },
     "metadata": {},
     "output_type": "display_data"
    },
    {
     "data": {
      "text/plain": [
       "Fri Oct 25 2024"
      ]
     },
     "metadata": {},
     "output_type": "display_data"
    },
    {
     "data": {
      "text/plain": [
       "2024/10/25"
      ]
     },
     "metadata": {},
     "output_type": "display_data"
    },
    {
     "data": {
      "text/plain": [
       "25"
      ]
     },
     "metadata": {},
     "output_type": "display_data"
    },
    {
     "data": {
      "text/plain": [
       "5"
      ]
     },
     "metadata": {},
     "output_type": "display_data"
    },
    {
     "data": {
      "text/plain": [
       "9"
      ]
     },
     "metadata": {},
     "output_type": "display_data"
    },
    {
     "data": {
      "text/plain": [
       "2024"
      ]
     },
     "metadata": {},
     "output_type": "display_data"
    },
    {
     "data": {
      "text/plain": [
       "12"
      ]
     },
     "metadata": {},
     "output_type": "display_data"
    },
    {
     "data": {
      "text/plain": [
       "54"
      ]
     },
     "metadata": {},
     "output_type": "display_data"
    },
    {
     "data": {
      "text/plain": [
       "30"
      ]
     },
     "metadata": {},
     "output_type": "display_data"
    },
    {
     "data": {
      "text/plain": [
       "122"
      ]
     },
     "metadata": {},
     "output_type": "display_data"
    },
    {
     "data": {
      "text/plain": [
       "1729828470122"
      ]
     },
     "metadata": {},
     "output_type": "display_data"
    }
   ],
   "source": [
    "// ▼ 現在の日時で新しいDateオブジェクトのインスタンスを作成\n",
    "const date = new Date();\n",
    "console.log(date.toString());  // 日付・時刻・タイムゾーンを表す文字列\n",
    "console.log(date.toDateString());  // 日付を表す文字列\n",
    "console.log(date.toLocaleDateString());  // 地域性を考慮した日付を表す文字列\n",
    "console.log(date.getDate());     // 日付\n",
    "console.log(date.getDay());      // 曜日（日曜を0とするインデックス）\n",
    "console.log(date.getMonth());    // 月（1月を0とするインデックス）\n",
    "console.log(date.getFullYear()); // 西暦\n",
    "console.log(date.getHours());    // 時\n",
    "console.log(date.getMinutes());  // 分\n",
    "console.log(date.getSeconds());  // 秒\n",
    "console.log(date.getMilliseconds());  // ミリ秒\n",
    "console.log(date.getTime());  // 1970年1月1日0時0分0秒からの経過時間（単位はミリ秒）"
   ]
  },
  {
   "cell_type": "code",
   "execution_count": 21,
   "metadata": {
    "dotnet_interactive": {
     "language": "javascript"
    },
    "polyglot_notebook": {
     "kernelName": "javascript"
    },
    "vscode": {
     "languageId": "polyglot-notebook"
    }
   },
   "outputs": [
    {
     "data": {
      "text/plain": [
       "あなたの運勢は中吉です。"
      ]
     },
     "metadata": {},
     "output_type": "display_data"
    }
   ],
   "source": [
    "const omikuji = [\"大吉\", \"吉\", \"中吉\", \"小吉\", \"末吉\", \"凶\", \"大凶\"];\n",
    "const temp = Math.random()*6;\n",
    "const index = Math.ceil(temp)\n",
    "\n",
    "const result = omikuji[index];\n",
    "console.log(`あなたの運勢は${result}です。`);"
   ]
  },
  {
   "cell_type": "code",
   "execution_count": 25,
   "metadata": {
    "dotnet_interactive": {
     "language": "javascript"
    },
    "polyglot_notebook": {
     "kernelName": "javascript"
    },
    "vscode": {
     "languageId": "polyglot-notebook"
    }
   },
   "outputs": [
    {
     "data": {
      "text/plain": [
       "今日は2024年10月25日金曜日です。"
      ]
     },
     "metadata": {},
     "output_type": "display_data"
    }
   ],
   "source": [
    "const week = [\"日\", \"月\", \"火\", \"水\", \"木\", \"金\", \"土\"];\n",
    "const today = new Date();\n",
    "const year = today.getFullYear();\n",
    "const month = today.getMonth() + 1;\n",
    "const date = today.getDate();\n",
    "const day = today.getDay();\n",
    "console.log(`今日は${year}年${month}月${date}日${week[day]}曜日です。`);"
   ]
  }
 ],
 "metadata": {
  "kernelspec": {
   "display_name": ".NET (C#)",
   "language": "C#",
   "name": ".net-csharp"
  },
  "language_info": {
   "name": "python"
  },
  "polyglot_notebook": {
   "kernelInfo": {
    "defaultKernelName": "csharp",
    "items": [
     {
      "aliases": [],
      "name": "csharp"
     }
    ]
   }
  }
 },
 "nbformat": 4,
 "nbformat_minor": 2
}
