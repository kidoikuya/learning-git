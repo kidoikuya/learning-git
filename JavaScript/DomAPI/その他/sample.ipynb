{
 "cells": [
  {
   "cell_type": "code",
   "execution_count": 8,
   "metadata": {
    "dotnet_interactive": {
     "language": "javascript"
    },
    "polyglot_notebook": {
     "kernelName": "javascript"
    },
    "vscode": {
     "languageId": "polyglot-notebook"
    }
   },
   "outputs": [
    {
     "data": {
      "text/plain": [
       "JavaScript"
      ]
     },
     "metadata": {},
     "output_type": "display_data"
    }
   ],
   "source": [
    "console.log(\"JavaScript\");"
   ]
  },
  {
   "cell_type": "code",
   "execution_count": 9,
   "metadata": {
    "dotnet_interactive": {
     "language": "javascript"
    },
    "polyglot_notebook": {
     "kernelName": "javascript"
    },
    "vscode": {
     "languageId": "polyglot-notebook"
    }
   },
   "outputs": [],
   "source": [
    "// ▼ 1行に1文を書いたコード\n",
    "let result1 = 1 + 2;\n",
    "\n",
    "// ▼ 1つの文を複数行に分けて書くこともできる\n",
    "let result2 = 1 +\n",
    "\t2;\t // ◀ ここまでがひとつの文\n",
    "\n",
    "// ▼ 1行に複数の文を書くこともできる\n",
    "let result3 = 1 + 2; let result4 = 1 + 2;"
   ]
  },
  {
   "cell_type": "code",
   "execution_count": 10,
   "metadata": {
    "dotnet_interactive": {
     "language": "javascript"
    },
    "polyglot_notebook": {
     "kernelName": "javascript"
    },
    "vscode": {
     "languageId": "polyglot-notebook"
    }
   },
   "outputs": [
    {
     "data": {
      "text/plain": [
       "boolean"
      ]
     },
     "metadata": {},
     "output_type": "display_data"
    },
    {
     "data": {
      "text/plain": [
       "number"
      ]
     },
     "metadata": {},
     "output_type": "display_data"
    },
    {
     "data": {
      "text/plain": [
       "bigint"
      ]
     },
     "metadata": {},
     "output_type": "display_data"
    },
    {
     "data": {
      "text/plain": [
       "string"
      ]
     },
     "metadata": {},
     "output_type": "display_data"
    },
    {
     "data": {
      "text/plain": [
       "symbol"
      ]
     },
     "metadata": {},
     "output_type": "display_data"
    },
    {
     "data": {
      "text/plain": [
       "object"
      ]
     },
     "metadata": {},
     "output_type": "display_data"
    },
    {
     "data": {
      "text/plain": [
       "undefined"
      ]
     },
     "metadata": {},
     "output_type": "display_data"
    }
   ],
   "source": [
    "console.log(typeof true);    // 論理型 \"boolean\"\n",
    "console.log(typeof 10);        // 数値型 \"number\"\n",
    "console.log(typeof 10n);    // 長整数型 \"bigint\"\n",
    "console.log(typeof \"ten\");        // 文字列型 \"string\"\n",
    "console.log(typeof Symbol(\"10\"));    // シンボル型 \"symbol\"\n",
    "console.log(typeof null);  // Null型 \"object\"\n",
    "console.log(typeof undefined); // Undefined型 \"undefined\""
   ]
  },
  {
   "cell_type": "code",
   "execution_count": 1,
   "metadata": {
    "dotnet_interactive": {
     "language": "javascript"
    },
    "polyglot_notebook": {
     "kernelName": "javascript"
    },
    "vscode": {
     "languageId": "polyglot-notebook"
    }
   },
   "outputs": [
    {
     "data": {
      "text/plain": [
       "true"
      ]
     },
     "metadata": {},
     "output_type": "display_data"
    },
    {
     "data": {
      "text/plain": [
       "false"
      ]
     },
     "metadata": {},
     "output_type": "display_data"
    }
   ],
   "source": [
    "// ▼ データの厳密な比較は === 演算子で行う\n",
    "console.log(\"a\" === \"a\");        // true\n",
    "console.log(Symbol(\"a\") === Symbol(\"a\"));  // false"
   ]
  },
  {
   "cell_type": "code",
   "execution_count": 2,
   "metadata": {
    "dotnet_interactive": {
     "language": "javascript"
    },
    "polyglot_notebook": {
     "kernelName": "javascript"
    },
    "vscode": {
     "languageId": "polyglot-notebook"
    }
   },
   "outputs": [
    {
     "data": {
      "text/plain": [
       "田中太郎"
      ]
     },
     "metadata": {},
     "output_type": "display_data"
    },
    {
     "data": {
      "text/plain": [
       "20"
      ]
     },
     "metadata": {},
     "output_type": "display_data"
    }
   ],
   "source": [
    "const person = {  // constは変数を宣言する方法の１つです\n",
    "    name: \"田中太郎\",  // name プロパティの値に文字列を設定\n",
    "    age: 20        // age プロパティの値に数値を設定\n",
    "};\n",
    "console.log(person.name);  // nameプロパティを参照\n",
    "console.log(person.age);  // ageプロパティを参照"
   ]
  },
  {
   "cell_type": "code",
   "execution_count": 3,
   "metadata": {
    "dotnet_interactive": {
     "language": "javascript"
    },
    "polyglot_notebook": {
     "kernelName": "javascript"
    },
    "vscode": {
     "languageId": "polyglot-notebook"
    }
   },
   "outputs": [
    {
     "data": {
      "text/plain": [
       "田中太郎"
      ]
     },
     "metadata": {},
     "output_type": "display_data"
    },
    {
     "data": {
      "text/plain": [
       "20"
      ]
     },
     "metadata": {},
     "output_type": "display_data"
    }
   ],
   "source": [
    "const person = {\n",
    "    name: \"田中太郎\",\n",
    "    age: 20\n",
    "};\n",
    "console.log(person[\"name\"]);  // nameプロパティを参照\n",
    "console.log(person[\"age\"]);  // ageプロパティを参照"
   ]
  },
  {
   "cell_type": "code",
   "execution_count": 4,
   "metadata": {
    "dotnet_interactive": {
     "language": "javascript"
    },
    "polyglot_notebook": {
     "kernelName": "javascript"
    },
    "vscode": {
     "languageId": "polyglot-notebook"
    }
   },
   "outputs": [
    {
     "data": {
      "text/plain": [
       "田中太郎"
      ]
     },
     "metadata": {},
     "output_type": "display_data"
    },
    {
     "data": {
      "text/plain": [
       "20"
      ]
     },
     "metadata": {},
     "output_type": "display_data"
    }
   ],
   "source": [
    "const age = Symbol(\"age\");\n",
    "const person = {\n",
    "    \"name-ja\": \"田中太郎\",  // プロパティ名を直接書く場合はハイフン（‐）は使えない\n",
    "    [age]: 20  // 文字列以外にもシンボル型のデータが指定できる\n",
    "};\n",
    "console.log(person[\"name-ja\"]);\n",
    "console.log(person[age]);"
   ]
  },
  {
   "cell_type": "code",
   "execution_count": 6,
   "metadata": {
    "dotnet_interactive": {
     "language": "javascript"
    },
    "polyglot_notebook": {
     "kernelName": "javascript"
    },
    "vscode": {
     "languageId": "polyglot-notebook"
    }
   },
   "outputs": [
    {
     "data": {
      "application/json": {
       "age": 20,
       "name": "田中太郎"
      }
     },
     "metadata": {},
     "output_type": "display_data"
    }
   ],
   "source": [
    "const person = {};  // 空のオブジェクトを作成\n",
    "person.name = \"田中太郎\";  // nameプロパティを追加\n",
    "person.age = 20;  // ageプロパティを追加\n",
    "console.log(person);  // nameとageのプロパティをもつオブジェクトとして出力される"
   ]
  },
  {
   "cell_type": "code",
   "execution_count": 7,
   "metadata": {
    "dotnet_interactive": {
     "language": "javascript"
    },
    "polyglot_notebook": {
     "kernelName": "javascript"
    },
    "vscode": {
     "languageId": "polyglot-notebook"
    }
   },
   "outputs": [
    {
     "data": {
      "text/plain": [
       "2"
      ]
     },
     "metadata": {},
     "output_type": "display_data"
    },
    {
     "data": {
      "text/plain": [
       "value3"
      ]
     },
     "metadata": {},
     "output_type": "display_data"
    },
    {
     "data": {
      "text/plain": [
       "null"
      ]
     },
     "metadata": {},
     "output_type": "display_data"
    },
    {
     "data": {
      "text/plain": [
       "true"
      ]
     },
     "metadata": {},
     "output_type": "display_data"
    },
    {
     "data": {
      "text/plain": [
       "false"
      ]
     },
     "metadata": {},
     "output_type": "display_data"
    },
    {
     "data": {
      "text/plain": [
       "false"
      ]
     },
     "metadata": {},
     "output_type": "display_data"
    },
    {
     "data": {
      "text/plain": [
       "0"
      ]
     },
     "metadata": {},
     "output_type": "display_data"
    }
   ],
   "source": [
    "// ▼ マップの初期化： [\"key\", \"value\"] を要素に持つ配列を与える\n",
    "const map = new Map([[\"key1\",\"value1\"],[\"key2\",\"value2\"]]);\n",
    "\n",
    "// ▼ sizeプロパティでマップ内のセット数が確認できる\n",
    "console.log(map.size);  // 2\n",
    "\n",
    "// ▼ set()メソッドで新しいセットを追加する\n",
    "map.set(\"key3\", \"value3\");\n",
    "\n",
    "// ▼ get()メソッドで引数にキーを与えて値を取得する\n",
    "console.log(map.get(\"key3\"));  // value3\n",
    "console.log(map.get(\"key4\"));  // undefined\n",
    "\n",
    "// ▼ has()メソッドで引数に与えたキーが存在するかどうかを確認する\n",
    "console.log(map.has(\"key3\"));  // true\n",
    "console.log(map.has(\"key4\"));  // false\n",
    "\n",
    "// ▼ delete()メソッドで特定のキーをもつ要素を先所する\n",
    "map.delete(\"key1\");\n",
    "console.log(map.has(\"key1\")) // false\n",
    "\n",
    "// ▼ clear()メソッドですべての要素をマップオブジェクトから削除する\n",
    "map.clear();\n",
    "console.log(map.size) // 0"
   ]
  },
  {
   "cell_type": "code",
   "execution_count": 20,
   "metadata": {
    "dotnet_interactive": {
     "language": "javascript"
    },
    "polyglot_notebook": {
     "kernelName": "javascript"
    },
    "vscode": {
     "languageId": "polyglot-notebook"
    }
   },
   "outputs": [
    {
     "data": {
      "application/json": {
       "address": "神奈川県厚木市旭町1-27-6 本厚木マイビル",
       "capital": 10000000,
       "name": "湘南ハイテク企画",
       "numOfEmployees": 100,
       "postcode": "243-0014",
       "tel": "046-280-6812"
      }
     },
     "metadata": {},
     "output_type": "display_data"
    }
   ],
   "source": [
    "const company = {\n",
    "    name : \"湘南ハイテク企画\", //会社名\n",
    "    capital : 10_000_000, //資本金\n",
    "    numOfEmployees : 100, //従業員数\n",
    "    postcode : \"243-0014\", //郵便番号\n",
    "    address : \"神奈川県厚木市旭町1-27-6 本厚木マイビル\",//住所\n",
    "    tel : \"046-280-6812\" //電話番号\n",
    "};\n",
    "console.log(company);"
   ]
  },
  {
   "cell_type": "code",
   "execution_count": 36,
   "metadata": {
    "dotnet_interactive": {
     "language": "javascript"
    },
    "polyglot_notebook": {
     "kernelName": "javascript"
    },
    "vscode": {
     "languageId": "polyglot-notebook"
    }
   },
   "outputs": [
    {
     "data": {
      "application/json": [
       "ワニ",
       "ヘビ",
       "トカゲ",
       "カメ"
      ]
     },
     "metadata": {},
     "output_type": "display_data"
    },
    {
     "data": {
      "application/json": [
       "カエル",
       "イモリ",
       "サンショウウオ"
      ]
     },
     "metadata": {},
     "output_type": "display_data"
    }
   ],
   "source": [
    "const livingThings = [\"ワニ\" , \"ヘビ\", \"トカゲ\", \"カメ\", \"カエル\", \"イモリ\", \"サンショウウオ\"];\n",
    "const reptiles = livingThings.splice(0,4);   // 爬虫類\n",
    "const amphibian = livingThings;  // 両生類\n",
    "\n",
    "console.log(reptiles);\n",
    "console.log(amphibian);\n",
    "\n",
    "// spliceは破壊的メソッド\n",
    "// sliceは非破壊メソッド"
   ]
  },
  {
   "cell_type": "code",
   "execution_count": 33,
   "metadata": {
    "dotnet_interactive": {
     "language": "javascript"
    },
    "polyglot_notebook": {
     "kernelName": "javascript"
    },
    "vscode": {
     "languageId": "polyglot-notebook"
    }
   },
   "outputs": [
    {
     "data": {
      "text/plain": [
       "3132"
      ]
     },
     "metadata": {},
     "output_type": "display_data"
    }
   ],
   "source": [
    "const apple = 200, banana = 150, strawberry = 500;  // 各商品の単価\n",
    "\n",
    "/* ここに各変数の宣言文を追加 */\n",
    "let sum =0;\n",
    "const TAX_RATE = 8;\n",
    "\n",
    "sum += apple * 3 * (1 + TAX_RATE / 100);\n",
    "sum += banana * 2 * (1 + TAX_RATE / 100);\n",
    "sum += strawberry * 4 * (1 + TAX_RATE / 100);\n",
    "\n",
    "console.log(sum);"
   ]
  },
  {
   "cell_type": "code",
   "execution_count": 34,
   "metadata": {
    "dotnet_interactive": {
     "language": "javascript"
    },
    "polyglot_notebook": {
     "kernelName": "javascript"
    },
    "vscode": {
     "languageId": "polyglot-notebook"
    }
   },
   "outputs": [
    {
     "data": {
      "text/plain": [
       "Aさんの購入金額：3132"
      ]
     },
     "metadata": {},
     "output_type": "display_data"
    },
    {
     "data": {
      "text/plain": [
       "Bさんの購入金額：2160"
      ]
     },
     "metadata": {},
     "output_type": "display_data"
    },
    {
     "data": {
      "text/plain": [
       "AさんとBさんの購入金額の総和：5292"
      ]
     },
     "metadata": {},
     "output_type": "display_data"
    }
   ],
   "source": [
    "const apple = 200, banana = 150, strawberry = 500;  // 各商品の単価\n",
    "const TAX_RATE = 8;  // 消費税率\n",
    "\n",
    "let total = 0;  //２人の購入金額の総和\n",
    "\n",
    "// Aさんの購入金額の計算\n",
    "{\n",
    "let sum = 0;\n",
    "sum += apple * 3 * (1 + TAX_RATE / 100);\n",
    "sum += banana * 2 * (1 + TAX_RATE / 100);\n",
    "sum += strawberry * 4 * (1 + TAX_RATE / 100);\n",
    "console.log(\"Aさんの購入金額：\" + sum);\n",
    "\n",
    "total += sum;\n",
    "}\n",
    "\n",
    "\n",
    "// Bさんの購入金額の計算\n",
    "{\n",
    "let sum = 0;\n",
    "sum += apple * 1 * (1 + TAX_RATE / 100);\n",
    "sum += banana * 2 * (1 + TAX_RATE / 100);\n",
    "sum += strawberry * 3 * (1 + TAX_RATE / 100);\n",
    "console.log(\"Bさんの購入金額：\" + sum);\n",
    "\n",
    "total += sum;\n",
    "}\n",
    "\n",
    "console.log(\"AさんとBさんの購入金額の総和：\" + total);"
   ]
  }
 ],
 "metadata": {
  "kernelspec": {
   "display_name": ".NET (C#)",
   "language": "C#",
   "name": ".net-csharp"
  },
  "language_info": {
   "name": "python"
  },
  "polyglot_notebook": {
   "kernelInfo": {
    "defaultKernelName": "csharp",
    "items": [
     {
      "aliases": [],
      "name": "csharp"
     }
    ]
   }
  }
 },
 "nbformat": 4,
 "nbformat_minor": 2
}
