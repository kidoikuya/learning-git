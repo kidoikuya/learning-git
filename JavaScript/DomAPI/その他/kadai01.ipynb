{
 "cells": [
  {
   "cell_type": "code",
   "execution_count": 1,
   "metadata": {
    "dotnet_interactive": {
     "language": "javascript"
    },
    "polyglot_notebook": {
     "kernelName": "javascript"
    },
    "vscode": {
     "languageId": "polyglot-notebook"
    }
   },
   "outputs": [
    {
     "data": {
      "text/plain": [
       "A"
      ]
     },
     "metadata": {},
     "output_type": "display_data"
    }
   ],
   "source": [
    "const price = 500;\n",
    "console.log(price<1000 ? \"A\": price<2000 ? \"B\":\"C\");"
   ]
  },
  {
   "cell_type": "code",
   "execution_count": 10,
   "metadata": {
    "dotnet_interactive": {
     "language": "javascript"
    },
    "polyglot_notebook": {
     "kernelName": "javascript"
    },
    "vscode": {
     "languageId": "polyglot-notebook"
    }
   },
   "outputs": [
    {
     "data": {
      "text/plain": [
       "A"
      ]
     },
     "metadata": {},
     "output_type": "display_data"
    }
   ],
   "source": [
    "const price = 500;\n",
    "console.log( price < 1_000 && \"A\" || price < 2_000 && \"B\" || \"C\" );"
   ]
  },
  {
   "cell_type": "code",
   "execution_count": 17,
   "metadata": {
    "dotnet_interactive": {
     "language": "javascript"
    },
    "polyglot_notebook": {
     "kernelName": "javascript"
    },
    "vscode": {
     "languageId": "polyglot-notebook"
    }
   },
   "outputs": [
    {
     "data": {
      "text/plain": [
       "田中 太郎"
      ]
     },
     "metadata": {},
     "output_type": "display_data"
    }
   ],
   "source": [
    "const person = {\n",
    "    firstName: \"太郎\",\n",
    "    lastName: \"田中\",\n",
    "    getFullName(){\n",
    "        return `${this.lastName} ${this.firstName}`;\n",
    "    }\n",
    "};\n",
    "console.log(person.getFullName());"
   ]
  },
  {
   "cell_type": "code",
   "execution_count": 21,
   "metadata": {
    "dotnet_interactive": {
     "language": "javascript"
    },
    "polyglot_notebook": {
     "kernelName": "javascript"
    },
    "vscode": {
     "languageId": "polyglot-notebook"
    }
   },
   "outputs": [
    {
     "data": {
      "text/plain": [
       "私の名前は 田中 太郎です。年齢は 20才です"
      ]
     },
     "metadata": {},
     "output_type": "display_data"
    }
   ],
   "source": [
    "const person = {\n",
    "    firstName: \"太郎\",\n",
    "    lastName: \"田中\",\n",
    "    age: 20,\n",
    "    getFullName(){\n",
    "        return `${this.lastName} ${this.firstName}`;\n",
    "    },\n",
    "    introduce(){\n",
    "        return `私の名前は ${this.lastName} ${this.firstName}です。年齢は ${this.age}才です`;\n",
    "    }\n",
    "};\n",
    "console.log(person.introduce());"
   ]
  },
  {
   "cell_type": "code",
   "execution_count": 1,
   "metadata": {
    "dotnet_interactive": {
     "language": "javascript"
    },
    "polyglot_notebook": {
     "kernelName": "javascript"
    },
    "vscode": {
     "languageId": "polyglot-notebook"
    }
   },
   "outputs": [
    {
     "data": {
      "application/json": [
       15,
       30,
       45,
       60,
       75,
       90
      ]
     },
     "metadata": {},
     "output_type": "display_data"
    }
   ],
   "source": [
    "const array = [];\n",
    "for(let i = 1; i <= 100; i++){\n",
    "    if(i%3===0 && i%5===0){\n",
    "        array.push(i);\n",
    "    }    \n",
    "}\n",
    "console.log(array);"
   ]
  },
  {
   "cell_type": "code",
   "execution_count": 12,
   "metadata": {
    "dotnet_interactive": {
     "language": "javascript"
    },
    "polyglot_notebook": {
     "kernelName": "javascript"
    },
    "vscode": {
     "languageId": "polyglot-notebook"
    }
   },
   "outputs": [
    {
     "data": {
      "text/plain": [
       "being honest may not get you many friends but it’ll always get you the right ones."
      ]
     },
     "metadata": {},
     "output_type": "display_data"
    },
    {
     "data": {
      "application/json": [
       "being",
       "honest",
       "may",
       "not",
       "get",
       "you",
       "many",
       "friends",
       "but",
       "it’ll",
       "always",
       "get",
       "you",
       "the",
       "right",
       "ones."
      ]
     },
     "metadata": {},
     "output_type": "display_data"
    },
    {
     "data": {
      "application/json": {
       "a": 1,
       "b": 2,
       "f": 1,
       "g": 2,
       "h": 1,
       "i": 1,
       "m": 2,
       "n": 1,
       "o": 1,
       "r": 1,
       "t": 1,
       "y": 2
      }
     },
     "metadata": {},
     "output_type": "display_data"
    }
   ],
   "source": [
    "// 小文字に統一。\n",
    "const str = \"Being honest may not get you many friends but it’ll always get you the right ones.\";\n",
    "const str2 = str.toLowerCase();\n",
    "console.log(str2);\n",
    "\n",
    "// 文字列を配列に格納\n",
    "let word = \"\";\n",
    "const array = [];\n",
    "\n",
    "for (const char of str2) {\n",
    "    if (char === \" \") {\n",
    "        if (word) { // 空文字列を追加しないようにする\n",
    "            array.push(word);  // スペースに出会ったら、単語を配列に追加\n",
    "        }\n",
    "        word = \"\";         // 次の単語に備えてwordをリセット\n",
    "    } else {\n",
    "        word += char;      // スペースでないなら、文字をwordに追加\n",
    "    }\n",
    "}\n",
    "\n",
    "// 最後の単語も追加する（文字列がスペースで終わっていない場合）\n",
    "if (word) {\n",
    "    array.push(word);\n",
    "}\n",
    "console.log(array);\n",
    "\n",
    "// 配列の先頭文字の出現回数をカウントする\n",
    "const count = {};  // countオブジェクトの初期化\n",
    "\n",
    "for (const word of array) {\n",
    "    const firstChar = word.charAt(0);  // 各単語の先頭1文字を取得\n",
    "    if (count[firstChar]) {\n",
    "        count[firstChar]++;  // 既に存在する文字ならカウントを増やす\n",
    "    } else {\n",
    "        count[firstChar] = 1;  // 初めて出現する文字ならカウントを初期化\n",
    "    }\n",
    "}\n",
    "\n",
    "console.log(count);"
   ]
  },
  {
   "cell_type": "code",
   "execution_count": 15,
   "metadata": {
    "dotnet_interactive": {
     "language": "javascript"
    },
    "polyglot_notebook": {
     "kernelName": "javascript"
    },
    "vscode": {
     "languageId": "polyglot-notebook"
    }
   },
   "outputs": [
    {
     "data": {
      "text/plain": [
       "b:2"
      ]
     },
     "metadata": {},
     "output_type": "display_data"
    },
    {
     "data": {
      "text/plain": [
       "e:7"
      ]
     },
     "metadata": {},
     "output_type": "display_data"
    },
    {
     "data": {
      "text/plain": [
       "i:4"
      ]
     },
     "metadata": {},
     "output_type": "display_data"
    },
    {
     "data": {
      "text/plain": [
       "n:6"
      ]
     },
     "metadata": {},
     "output_type": "display_data"
    },
    {
     "data": {
      "text/plain": [
       "g:4"
      ]
     },
     "metadata": {},
     "output_type": "display_data"
    },
    {
     "data": {
      "text/plain": [
       "h:3"
      ]
     },
     "metadata": {},
     "output_type": "display_data"
    },
    {
     "data": {
      "text/plain": [
       "o:5"
      ]
     },
     "metadata": {},
     "output_type": "display_data"
    },
    {
     "data": {
      "text/plain": [
       "s:4"
      ]
     },
     "metadata": {},
     "output_type": "display_data"
    },
    {
     "data": {
      "text/plain": [
       "t:8"
      ]
     },
     "metadata": {},
     "output_type": "display_data"
    },
    {
     "data": {
      "text/plain": [
       "m:2"
      ]
     },
     "metadata": {},
     "output_type": "display_data"
    },
    {
     "data": {
      "text/plain": [
       "a:4"
      ]
     },
     "metadata": {},
     "output_type": "display_data"
    },
    {
     "data": {
      "text/plain": [
       "y:5"
      ]
     },
     "metadata": {},
     "output_type": "display_data"
    },
    {
     "data": {
      "text/plain": [
       "u:3"
      ]
     },
     "metadata": {},
     "output_type": "display_data"
    },
    {
     "data": {
      "text/plain": [
       "f:1"
      ]
     },
     "metadata": {},
     "output_type": "display_data"
    },
    {
     "data": {
      "text/plain": [
       "r:2"
      ]
     },
     "metadata": {},
     "output_type": "display_data"
    },
    {
     "data": {
      "text/plain": [
       "d:1"
      ]
     },
     "metadata": {},
     "output_type": "display_data"
    },
    {
     "data": {
      "text/plain": [
       "’:1"
      ]
     },
     "metadata": {},
     "output_type": "display_data"
    },
    {
     "data": {
      "text/plain": [
       "l:3"
      ]
     },
     "metadata": {},
     "output_type": "display_data"
    },
    {
     "data": {
      "text/plain": [
       "w:1"
      ]
     },
     "metadata": {},
     "output_type": "display_data"
    },
    {
     "data": {
      "text/plain": [
       ".:1"
      ]
     },
     "metadata": {},
     "output_type": "display_data"
    }
   ],
   "source": [
    "const words = \"Being honest may not get you many friends but it’ll always get you the right ones.\"\n",
    "                .toLowerCase();  // ◀ すべて小文字に変換\n",
    "const map = new Map();\n",
    "// ▼ 1文字ずつ順番に取得する\n",
    "for(let word of words){\n",
    "    // ▼ 半角スペースはカウントしない\n",
    "    if(word === \" \") continue;\n",
    "    if(map.has(word)){  // ▼ すでにマップのキーとして存在する場合は加算\n",
    "        map.set(word, map.get(word)+1);\n",
    "    }else{  // ▼ マップのキーとして存在しない場合は1で初期化\n",
    "        map.set(word, 1);\n",
    "    }\n",
    "}\n",
    "// ▼ 分割代入を用いてキー（文字）と値（出現数）を順番に取得してコンソールに出力\n",
    "for(let [key, value] of map){\n",
    "    console.log(`${key}:${value}`);\n",
    "}"
   ]
  },
  {
   "cell_type": "code",
   "execution_count": 21,
   "metadata": {
    "dotnet_interactive": {
     "language": "javascript"
    },
    "polyglot_notebook": {
     "kernelName": "javascript"
    },
    "vscode": {
     "languageId": "polyglot-notebook"
    }
   },
   "outputs": [
    {
     "data": {
      "application/json": [
       "https://www.sh-k.com/education",
       "https://www.sh-k.com/support",
       "https://www.sh-k.com/recruit",
       "https://www.sh-k.com/company",
       "https://www.sh-k.com/company/access",
       "https://www.sh-k.com/company/sitepolicy"
      ]
     },
     "metadata": {},
     "output_type": "display_data"
    }
   ],
   "source": [
    "//relativePathsを配列に格納\n",
    "const rootUrl = \"https://www.sh-k.com\";\n",
    "const relativePaths = [\n",
    "    \"/education\",\n",
    "    \"/support\",\n",
    "    \"/recruit\",\n",
    "    \"/company\",\n",
    "    \"/company/access\",\n",
    "    \"/company/sitepolicy\"\n",
    "];\n",
    "\n",
    "let newUrl =[];\n",
    "for(const arr of relativePaths){\n",
    "    newUrl.push(rootUrl+arr);\n",
    "}\n",
    "console.log(newUrl);"
   ]
  },
  {
   "cell_type": "code",
   "execution_count": 22,
   "metadata": {
    "dotnet_interactive": {
     "language": "javascript"
    },
    "polyglot_notebook": {
     "kernelName": "javascript"
    },
    "vscode": {
     "languageId": "polyglot-notebook"
    }
   },
   "outputs": [
    {
     "data": {
      "application/json": [
       "https://www.sh-k.com/education",
       "https://www.sh-k.com/support",
       "https://www.sh-k.com/recruit",
       "https://www.sh-k.com/company",
       "https://www.sh-k.com/company/access",
       "https://www.sh-k.com/company/sitepolicy"
      ]
     },
     "metadata": {},
     "output_type": "display_data"
    }
   ],
   "source": [
    "const rootUrl = \"https://www.sh-k.com\";\n",
    "const relativePaths = [\n",
    "    \"/education\",\n",
    "    \"/support\",\n",
    "    \"/recruit\",\n",
    "    \"/company\",\n",
    "    \"/company/access\",\n",
    "    \"/company/sitepolicy\"\n",
    "];\n",
    "// --- ▼ 以下のコードを追加 ----\n",
    "const absolutePaths = relativePaths.map((path)=>{\n",
    "    return rootUrl + path;\n",
    "})\n",
    "// 確認のためコンソールに出力\n",
    "console.log(absolutePaths);"
   ]
  },
  {
   "cell_type": "code",
   "execution_count": 24,
   "metadata": {
    "dotnet_interactive": {
     "language": "javascript"
    },
    "polyglot_notebook": {
     "kernelName": "javascript"
    },
    "vscode": {
     "languageId": "polyglot-notebook"
    }
   },
   "outputs": [
    {
     "data": {
      "text/plain": [
       "----合格者一覧----"
      ]
     },
     "metadata": {},
     "output_type": "display_data"
    },
    {
     "data": {
      "application/json": [
       [
        "Tarou",
        68
       ],
       [
        "Sabrou",
        72
       ],
       [
        "Shirou",
        84
       ]
      ]
     },
     "metadata": {},
     "output_type": "display_data"
    },
    {
     "data": {
      "text/plain": [
       "----不合格者一覧----"
      ]
     },
     "metadata": {},
     "output_type": "display_data"
    },
    {
     "data": {
      "application/json": [
       [
        "Jirou",
        55
       ],
       [
        "Gorou",
        46
       ]
      ]
     },
     "metadata": {},
     "output_type": "display_data"
    }
   ],
   "source": [
    "const list = [\n",
    "    [\"Tarou\", 68],\n",
    "    [\"Jirou\", 55],\n",
    "    [\"Sabrou\", 72],\n",
    "    [\"Shirou\", 84],\n",
    "    [\"Gorou\", 46]\n",
    "];\n",
    "// --- ▼ 以下のコードを追加 ----\n",
    "const border = 60;  // 合否判定の基準点\n",
    "// 合格者を集めた配列\n",
    "const passed = list.filter(data=>{\n",
    "    return data[1] >= border;\n",
    "});\n",
    "// 不合格者を集めた配列\n",
    "const failure = list.filter(data=>{\n",
    "    return data[1] < border;\n",
    "});\n",
    "// 確認のためコンソールに出力\n",
    "console.log(\"----合格者一覧----\");\n",
    "console.log(passed);\n",
    "console.log(\"----不合格者一覧----\");\n",
    "console.log(failure);"
   ]
  },
  {
   "cell_type": "code",
   "execution_count": 32,
   "metadata": {
    "dotnet_interactive": {
     "language": "javascript"
    },
    "polyglot_notebook": {
     "kernelName": "javascript"
    },
    "vscode": {
     "languageId": "polyglot-notebook"
    }
   },
   "outputs": [
    {
     "data": {
      "text/plain": [
       "2810"
      ]
     },
     "metadata": {},
     "output_type": "display_data"
    },
    {
     "data": {
      "text/plain": [
       "262"
      ]
     },
     "metadata": {},
     "output_type": "display_data"
    }
   ],
   "source": [
    "// ショッピングカートを表す配列\n",
    "// 要素は購入する商品を [商品名, 単価, 個数, 分類] で表した配列\n",
    "const cart = [\n",
    "    [\"egg\", 240, 1, \"grocery\"],\n",
    "    [\"milk\", 250, 1, \"grocery\"],\n",
    "    [\"onion\", 100, 2, \"grocery\"],\n",
    "    [\"carrot\", 80, 3, \"grocery\"],\n",
    "    [\"pencil\", 80, 3, \"stationery\"],\n",
    "    [\"eraser\", 70, 1, \"stationery\"],\n",
    "    [\"notebook\", 140, 2, \"stationery\"],\n",
    "    [\"stapler\", 520, 1, \"stationery\"],\n",
    "    [\"tissue paper\", 420, 1,\"daily necessities\"],\n",
    "    [\"cling wrap\", 350, 1, \"daily necessities\"]\n",
    "];\n",
    "// ▼ ---- 以下のコードを追加 ----\n",
    "// 1. 消費税を除いた商品の合計額の算出\n",
    "// 分割代入を使うパターン\n",
    "//const totalPrice = cart.reduce((prev,[name,price,quantity,kind])=>{\n",
    "const totalPrice = cart.reduce((prev, val)=>{\n",
    "    return prev + val[1] * val[2];\n",
    "}, 0); //0は初期値、省略するの最初の要素が入る。通常は1。分割代入の場合は[name,price,quantity,kind]が入る。\n",
    "console.log(totalPrice);\n",
    "// 2. 消費税額の合計の算出\n",
    "const totalTax = parseInt(cart.reduce((prev, val)=>{\n",
    "    if(val[3] === \"grocery\"){\n",
    "        return prev + val[1] * val[2] * 0.08;\n",
    "    }else{\n",
    "        return prev + val[1] * val[2] * 0.1;\n",
    "    }\n",
    "}, 0));\n",
    "console.log(totalTax);"
   ]
  },
  {
   "cell_type": "code",
   "execution_count": 39,
   "metadata": {
    "dotnet_interactive": {
     "language": "javascript"
    },
    "polyglot_notebook": {
     "kernelName": "javascript"
    },
    "vscode": {
     "languageId": "polyglot-notebook"
    }
   },
   "outputs": [
    {
     "data": {
      "text/plain": [
       "10000円入金しました。残高は10000円です。"
      ]
     },
     "metadata": {},
     "output_type": "display_data"
    },
    {
     "data": {
      "text/plain": [
       "5000円出金しました。残高は5000円です。"
      ]
     },
     "metadata": {},
     "output_type": "display_data"
    },
    {
     "data": {
      "text/plain": [
       "1000円出金しました。残高は4000円です。"
      ]
     },
     "metadata": {},
     "output_type": "display_data"
    },
    {
     "data": {
      "text/plain": [
       "2000円入金しました。残高は6000円です。"
      ]
     },
     "metadata": {},
     "output_type": "display_data"
    },
    {
     "data": {
      "text/plain": [
       "RangeError: 残高が不足しています。\n",
       "[出金額:10000円, 残高:6000円]"
      ]
     },
     "metadata": {},
     "output_type": "display_data"
    }
   ],
   "source": [
    "const account = {\n",
    "    // 口座の残高（bigint型）\n",
    "    balance: 0n,\n",
    "\n",
    "    // 出金の手続きを行うメソッド\n",
    "    withdraw(quantity) {\n",
    "        if (typeof quantity !== \"bigint\") {\n",
    "            console.log(\"TypeError: 金額はbigint型で指定してください\");\n",
    "            return;\n",
    "        } else if (quantity < 1n) {\n",
    "            console.log(\"RangeError: 1円未満の金額は指定できません。\");\n",
    "            return;\n",
    "        } else if (this.balance - quantity < 0) {\n",
    "            console.log(`RangeError: 残高が不足しています。\\n[出金額:${quantity}円, 残高:${this.balance}円]`);\n",
    "            return;\n",
    "        }\n",
    "        this.balance -= quantity;\n",
    "        console.log(`${quantity}円出金しました。残高は${this.balance}円です。`);\n",
    "    },\n",
    "\n",
    "    // 入金の手続きを行うメソッド\n",
    "    deposit(quantity) {\n",
    "        if (typeof quantity !== \"bigint\") {\n",
    "            console.log(\"TypeError: 金額はbigint型で指定してください\");\n",
    "            return;\n",
    "        } else if (quantity < 1n) {\n",
    "            console.log(\"RangeError: 1円未満の金額は指定できません。\");\n",
    "            return;\n",
    "        }\n",
    "        this.balance += quantity;\n",
    "        console.log(`${quantity}円入金しました。残高は${this.balance}円です。`);\n",
    "    },\n",
    "\n",
    "    // 引数で受けた手続き名と金額でメソッドを呼び出すメソッド\n",
    "    operate(operations) {\n",
    "        for (const [tetu, quantity] of operations) {\n",
    "            if (tetu === \"withdraw\") {\n",
    "                this.withdraw(quantity);\n",
    "            } else if (tetu === \"deposit\") {\n",
    "                this.deposit(quantity);\n",
    "            } else {\n",
    "                console.log(\"そんな処理ありません。\");\n",
    "            }\n",
    "        }\n",
    "    }\n",
    "};\n",
    "\n",
    "// ▼ 各メソッドの呼び出し例\n",
    "account.deposit(10_000n);  // 10000円入金しました。残高は10000円です。\n",
    "account.withdraw(5_000n);  // 5000円出金しました。残高は5000円です。\n",
    "account.operate([[\"withdraw\", 1_000n], [\"deposit\", 2_000n], [\"withdraw\", 10_000n]]);\n"
   ]
  },
  {
   "cell_type": "code",
   "execution_count": null,
   "metadata": {
    "dotnet_interactive": {
     "language": "javascript"
    },
    "polyglot_notebook": {
     "kernelName": "javascript"
    },
    "vscode": {
     "languageId": "polyglot-notebook"
    }
   },
   "outputs": [],
   "source": [
    "function createPerson(name){\n",
    "    return {\n",
    "      name: name,\n",
    "      introduce(){\n",
    "        console.log(`私の名前は${this.name}です。`);\n",
    "      }\n",
    "    }\n",
    "  }\n",
    "  const person1 = createPerson(\"佐藤\");\n",
    "  const person2 = createPerson(\"鈴木\");\n",
    "  person1.introduce();  // 「私の名前は佐藤です。」を出力\n",
    "  person2.introduce();  // 「私の名前は鈴木です。」を出力"
   ]
  },
  {
   "cell_type": "code",
   "execution_count": 49,
   "metadata": {
    "dotnet_interactive": {
     "language": "javascript"
    },
    "polyglot_notebook": {
     "kernelName": "javascript"
    },
    "vscode": {
     "languageId": "polyglot-notebook"
    }
   },
   "outputs": [
    {
     "data": {
      "text/plain": [
       "*****\n",
       "hello\n",
       "*****"
      ]
     },
     "metadata": {},
     "output_type": "display_data"
    },
    {
     "data": {
      "text/plain": [
       "........\n",
       "good bye\n",
       "........"
      ]
     },
     "metadata": {},
     "output_type": "display_data"
    }
   ],
   "source": [
    "function createDecorator(character){\n",
    "    return {\n",
    "        decoration: character,\n",
    "        decorate(target){\n",
    "            return this.decoration.repeat(target.length) + \"\\n\"\n",
    "            + target + \"\\n\" + this.decoration.repeat(target.length);\n",
    "        }        \n",
    "    };\n",
    "}\n",
    "const asteriskDecorator = createDecorator(\"*\");\n",
    "console.log(asteriskDecorator.decorate(\"hello\"));\n",
    "const dotDecorator = createDecorator(\".\");\n",
    "console.log(dotDecorator.decorate(\"good bye\"));"
   ]
  },
  {
   "cell_type": "code",
   "execution_count": 50,
   "metadata": {
    "dotnet_interactive": {
     "language": "javascript"
    },
    "polyglot_notebook": {
     "kernelName": "javascript"
    },
    "vscode": {
     "languageId": "polyglot-notebook"
    }
   },
   "outputs": [
    {
     "data": {
      "text/plain": [
       "10"
      ]
     },
     "metadata": {},
     "output_type": "display_data"
    }
   ],
   "source": [
    "const timer = {\n",
    "    time: 60_000,  // 計測時間（単位:ミリ秒）, 初期値として60秒を設定\n",
    "    duration: 1_000,  // 残り時間の表示間隔（単位:ミリ秒）\n",
    "    intervalId: null,  // インターバルID\n",
    "    remainingTime: null,  // 残り時間（単位:ミリ秒）\n",
    "    // ▼ 残り時間を表示するメソッド\n",
    "    showRemainingTime(){\n",
    "        console.clear();  // 過去の出力履歴をクリア\n",
    "        console.log(this.remainingTime / 1_000);  // 残り時間（単位:秒）を出力\n",
    "    },\n",
    "    // ▼ 計測時間を設定するメソッド, 引数で渡される時間の単位は秒\n",
    "    setTime(time){\n",
    "        // 引数で渡された値が有効でない場合はエラーメッセージを出力\n",
    "        if(typeof time !== \"number\"){\n",
    "            console.log(\"TypeError:時間は数値で指定してください。\");\n",
    "            return;\n",
    "        }else if(time < 1){\n",
    "            console.log(\"RangeError:時間は1秒以上で指定してください。\");\n",
    "            return;\n",
    "        }\n",
    "        // 単位を秒からミリ秒に変換して time プロパティの値を更新\n",
    "        // 引数 time の小数点以下は parseInt() 関数で切り捨てる\n",
    "        this.time = parseInt(time) * 1_000;\n",
    "    },\n",
    "    // ▼ 計測を開始するメソッド\n",
    "    start(){\n",
    "        // 既にタイマーが計測中の場合は先に動作を取り消す\n",
    "        if(this.intervalId) clearInterval(this.intervalId);\n",
    "        // 残り時間の設定と表示\n",
    "        this.remainingTime = this.time;\n",
    "        this.showRemainingTime();\n",
    "        // 繰り返し処理の実行\n",
    "        this.intervalId = setInterval(()=>{\n",
    "            // 残り時間の減算と表示\n",
    "            this.remainingTime -= this.duration;\n",
    "            this.showRemainingTime();\n",
    "            // 残り時間が0になったら取り消す\n",
    "            if(this.remainingTime === 0){\n",
    "                clearInterval(this.intervalId);\n",
    "                this.intervalId = null;\n",
    "            }\n",
    "        }, this.duration);\n",
    "    }\n",
    "}\n",
    "// ▼ 動作確認用のテストコード\n",
    "timer.setTime(10);\n",
    "timer.start();"
   ]
  }
 ],
 "metadata": {
  "kernelspec": {
   "display_name": ".NET (C#)",
   "language": "C#",
   "name": ".net-csharp"
  },
  "language_info": {
   "name": "python"
  },
  "polyglot_notebook": {
   "kernelInfo": {
    "defaultKernelName": "csharp",
    "items": [
     {
      "aliases": [],
      "name": "csharp"
     }
    ]
   }
  }
 },
 "nbformat": 4,
 "nbformat_minor": 2
}
