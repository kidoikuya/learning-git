{
 "cells": [
  {
   "cell_type": "code",
   "execution_count": null,
   "metadata": {
    "dotnet_interactive": {
     "language": "javascript"
    },
    "polyglot_notebook": {
     "kernelName": "javascript"
    },
    "vscode": {
     "languageId": "polyglot-notebook"
    }
   },
   "outputs": [
    {
     "data": {
      "text/plain": [
       "2"
      ]
     },
     "metadata": {},
     "output_type": "display_data"
    },
    {
     "data": {
      "text/plain": [
       "5"
      ]
     },
     "metadata": {},
     "output_type": "display_data"
    },
    {
     "data": {
      "text/plain": [
       "10"
      ]
     },
     "metadata": {},
     "output_type": "display_data"
    },
    {
     "data": {
      "text/plain": [
       "5"
      ]
     },
     "metadata": {},
     "output_type": "display_data"
    },
    {
     "data": {
      "text/plain": [
       "5"
      ]
     },
     "metadata": {},
     "output_type": "display_data"
    },
    {
     "data": {
      "text/plain": [
       "8"
      ]
     },
     "metadata": {},
     "output_type": "display_data"
    },
    {
     "data": {
      "text/plain": [
       "3"
      ]
     },
     "metadata": {},
     "output_type": "display_data"
    },
    {
     "data": {
      "text/plain": [
       "2"
      ]
     },
     "metadata": {},
     "output_type": "display_data"
    },
    {
     "data": {
      "text/plain": [
       "1"
      ]
     },
     "metadata": {},
     "output_type": "display_data"
    },
    {
     "data": {
      "text/plain": [
       "10"
      ]
     },
     "metadata": {},
     "output_type": "display_data"
    }
   ],
   "source": [
    "for(let i = 0; i < 10; i++){\n",
    "    // ▼ random()メソッドで発生させた数値を10倍して\n",
    "    //   0以上10未満の疑似乱数を取得する\n",
    "    const origin = Math.random() * 10;\n",
    "    // ▼ ceil()メソッドで小数点以下を切り上げて整数に変換する\n",
    "    const num = Math.ceil(origin);\n",
    "    console.log(num);\n",
    "  }"
   ]
  },
  {
   "cell_type": "code",
   "execution_count": 5,
   "metadata": {
    "dotnet_interactive": {
     "language": "javascript"
    },
    "polyglot_notebook": {
     "kernelName": "javascript"
    },
    "vscode": {
     "languageId": "polyglot-notebook"
    }
   },
   "outputs": [
    {
     "data": {
      "text/plain": [
       "Fri Oct 25 2024 12:54:30 GMT+0900 (日本標準時)"
      ]
     },
     "metadata": {},
     "output_type": "display_data"
    },
    {
     "data": {
      "text/plain": [
       "Fri Oct 25 2024"
      ]
     },
     "metadata": {},
     "output_type": "display_data"
    },
    {
     "data": {
      "text/plain": [
       "2024/10/25"
      ]
     },
     "metadata": {},
     "output_type": "display_data"
    },
    {
     "data": {
      "text/plain": [
       "25"
      ]
     },
     "metadata": {},
     "output_type": "display_data"
    },
    {
     "data": {
      "text/plain": [
       "5"
      ]
     },
     "metadata": {},
     "output_type": "display_data"
    },
    {
     "data": {
      "text/plain": [
       "9"
      ]
     },
     "metadata": {},
     "output_type": "display_data"
    },
    {
     "data": {
      "text/plain": [
       "2024"
      ]
     },
     "metadata": {},
     "output_type": "display_data"
    },
    {
     "data": {
      "text/plain": [
       "12"
      ]
     },
     "metadata": {},
     "output_type": "display_data"
    },
    {
     "data": {
      "text/plain": [
       "54"
      ]
     },
     "metadata": {},
     "output_type": "display_data"
    },
    {
     "data": {
      "text/plain": [
       "30"
      ]
     },
     "metadata": {},
     "output_type": "display_data"
    },
    {
     "data": {
      "text/plain": [
       "122"
      ]
     },
     "metadata": {},
     "output_type": "display_data"
    },
    {
     "data": {
      "text/plain": [
       "1729828470122"
      ]
     },
     "metadata": {},
     "output_type": "display_data"
    }
   ],
   "source": [
    "// ▼ 現在の日時で新しいDateオブジェクトのインスタンスを作成\n",
    "const date = new Date();\n",
    "console.log(date.toString());  // 日付・時刻・タイムゾーンを表す文字列\n",
    "console.log(date.toDateString());  // 日付を表す文字列\n",
    "console.log(date.toLocaleDateString());  // 地域性を考慮した日付を表す文字列\n",
    "console.log(date.getDate());     // 日付\n",
    "console.log(date.getDay());      // 曜日（日曜を0とするインデックス）\n",
    "console.log(date.getMonth());    // 月（1月を0とするインデックス）\n",
    "console.log(date.getFullYear()); // 西暦\n",
    "console.log(date.getHours());    // 時\n",
    "console.log(date.getMinutes());  // 分\n",
    "console.log(date.getSeconds());  // 秒\n",
    "console.log(date.getMilliseconds());  // ミリ秒\n",
    "console.log(date.getTime());  // 1970年1月1日0時0分0秒からの経過時間（単位はミリ秒）"
   ]
  },
  {
   "cell_type": "code",
   "execution_count": 21,
   "metadata": {
    "dotnet_interactive": {
     "language": "javascript"
    },
    "polyglot_notebook": {
     "kernelName": "javascript"
    },
    "vscode": {
     "languageId": "polyglot-notebook"
    }
   },
   "outputs": [
    {
     "data": {
      "text/plain": [
       "あなたの運勢は中吉です。"
      ]
     },
     "metadata": {},
     "output_type": "display_data"
    }
   ],
   "source": [
    "const omikuji = [\"大吉\", \"吉\", \"中吉\", \"小吉\", \"末吉\", \"凶\", \"大凶\"];\n",
    "const temp = Math.random()*6;\n",
    "const index = Math.ceil(temp)\n",
    "\n",
    "const result = omikuji[index];\n",
    "console.log(`あなたの運勢は${result}です。`);"
   ]
  },
  {
   "cell_type": "code",
   "execution_count": 25,
   "metadata": {
    "dotnet_interactive": {
     "language": "javascript"
    },
    "polyglot_notebook": {
     "kernelName": "javascript"
    },
    "vscode": {
     "languageId": "polyglot-notebook"
    }
   },
   "outputs": [
    {
     "data": {
      "text/plain": [
       "今日は2024年10月25日金曜日です。"
      ]
     },
     "metadata": {},
     "output_type": "display_data"
    }
   ],
   "source": [
    "const week = [\"日\", \"月\", \"火\", \"水\", \"木\", \"金\", \"土\"];\n",
    "const today = new Date();\n",
    "const year = today.getFullYear();\n",
    "const month = today.getMonth() + 1;\n",
    "const date = today.getDate();\n",
    "const day = today.getDay();\n",
    "console.log(`今日は${year}年${month}月${date}日${week[day]}曜日です。`);"
   ]
  },
  {
   "cell_type": "code",
   "execution_count": 3,
   "metadata": {
    "dotnet_interactive": {
     "language": "javascript"
    },
    "polyglot_notebook": {
     "kernelName": "javascript"
    },
    "vscode": {
     "languageId": "polyglot-notebook"
    }
   },
   "outputs": [
    {
     "data": {
      "text/plain": [
       "USA:米国"
      ]
     },
     "metadata": {},
     "output_type": "display_data"
    },
    {
     "data": {
      "text/plain": [
       "CHN:中国"
      ]
     },
     "metadata": {},
     "output_type": "display_data"
    },
    {
     "data": {
      "text/plain": [
       "DEU:ドイツ"
      ]
     },
     "metadata": {},
     "output_type": "display_data"
    },
    {
     "data": {
      "text/plain": [
       "JPN:日本"
      ]
     },
     "metadata": {},
     "output_type": "display_data"
    }
   ],
   "source": [
    "const map = new Map([\n",
    "    [\"USA\", \"米国\"],\n",
    "    [\"CHN\", \"中国\"],\n",
    "    [\"DEU\", \"ドイツ\"],\n",
    "    [\"JPN\", \"日本\"]\n",
    "]);\n",
    "\n",
    "for(const element of map){\n",
    "  const code = element[0];\n",
    "  const countryName = element[1];\n",
    "  console.log(element[0] +\":\"+ element[1]);\n",
    "}"
   ]
  },
  {
   "cell_type": "code",
   "execution_count": 5,
   "metadata": {
    "dotnet_interactive": {
     "language": "javascript"
    },
    "polyglot_notebook": {
     "kernelName": "javascript"
    },
    "vscode": {
     "languageId": "polyglot-notebook"
    }
   },
   "outputs": [
    {
     "data": {
      "text/plain": [
       "さん、おはようございます。"
      ]
     },
     "metadata": {},
     "output_type": "display_data"
    },
    {
     "data": {
      "text/plain": [
       "さん、こんにちは。"
      ]
     },
     "metadata": {},
     "output_type": "display_data"
    },
    {
     "data": {
      "text/plain": [
       "田中さん、おはようございます。"
      ]
     },
     "metadata": {},
     "output_type": "display_data"
    },
    {
     "data": {
      "text/plain": [
       "佐藤さん、こんにちは。"
      ]
     },
     "metadata": {},
     "output_type": "display_data"
    }
   ],
   "source": [
    "function createGreet(greetMsg){\n",
    "    // ▼ この関数が呼び出されるたびにクロージャが作られる\n",
    "    return function (name){\n",
    "        console.log(name+\"さん、\" + greetMsg + \"。\");\n",
    "    }\n",
    "}\n",
    "const goodMorning = createGreet(\"おはようございます\");\n",
    "const hello = createGreet(\"こんにちは\");\n",
    "\n",
    "goodMorning(\"\");  // 田中さん、おはようございます。\n",
    "hello(\"\");  // 佐藤さん、こんにちは。\n",
    "\n",
    "goodMorning(\"田中\");  // 田中さん、おはようございます。\n",
    "hello(\"佐藤\");  // 佐藤さん、こんにちは。"
   ]
  },
  {
   "cell_type": "code",
   "execution_count": 7,
   "metadata": {
    "dotnet_interactive": {
     "language": "javascript"
    },
    "polyglot_notebook": {
     "kernelName": "javascript"
    },
    "vscode": {
     "languageId": "polyglot-notebook"
    }
   },
   "outputs": [
    {
     "data": {
      "text/plain": [
       "*"
      ]
     },
     "metadata": {},
     "output_type": "display_data"
    },
    {
     "data": {
      "text/plain": [
       "*"
      ]
     },
     "metadata": {},
     "output_type": "display_data"
    },
    {
     "data": {
      "text/plain": [
       "*"
      ]
     },
     "metadata": {},
     "output_type": "display_data"
    },
    {
     "data": {
      "text/plain": [
       "*"
      ]
     },
     "metadata": {},
     "output_type": "display_data"
    },
    {
     "data": {
      "text/plain": [
       "*"
      ]
     },
     "metadata": {},
     "output_type": "display_data"
    }
   ],
   "source": [
    "// ▼ 高階関数\n",
    "function repeat(callbackFunc, repeatNum){\n",
    "  for(let i = 0; i < repeatNum; i++){\n",
    "    callbackFunc();\n",
    "  }\n",
    "}\n",
    "// ▼ コールバック関数\n",
    "function printAsterisk(){\n",
    "  console.log(\"*\");\n",
    "}\n",
    "// ▼ 高階関数の呼び出し\n",
    "repeat(printAsterisk, 5);  // * が 5回出力される"
   ]
  },
  {
   "cell_type": "code",
   "execution_count": 8,
   "metadata": {
    "dotnet_interactive": {
     "language": "javascript"
    },
    "polyglot_notebook": {
     "kernelName": "javascript"
    },
    "vscode": {
     "languageId": "polyglot-notebook"
    }
   },
   "outputs": [
    {
     "data": {
      "text/plain": [
       "5秒の計測を開始します。"
      ]
     },
     "metadata": {},
     "output_type": "display_data"
    }
   ],
   "source": [
    "const LIMIT = 5_000;  // 計測時間：単位はミリ秒\n",
    "const INTERVAL_TIME = 1_000;  // インターバル時間：単位はミリ秒\n",
    "let count = 0;  // 実行回数を記録する変数\n",
    "console.log(LIMIT/1_000 + \"秒の計測を開始します。\");\n",
    "const intervalID = setInterval(()=>{  // 戻り値のintervalIDをclearInterval関数に渡して実行すると処理をキャンセルできる\n",
    "  count++;  // 回数を記録\n",
    "  console.log(count + \"秒が経過しました。\");  // 経過時間の表示\n",
    "  if(count * 1_000 === LIMIT){  // 指定した時間が経過した場合は繰り返しを終了する\n",
    "    clearInterval(intervalID);  // clearInterval関数を実行して処理をキャンセルする\n",
    "    console.log(\"計測を終了します。\");  \n",
    "  }\n",
    "}, INTERVAL_TIME);"
   ]
  },
  {
   "cell_type": "code",
   "execution_count": 10,
   "metadata": {
    "dotnet_interactive": {
     "language": "javascript"
    },
    "polyglot_notebook": {
     "kernelName": "javascript"
    },
    "vscode": {
     "languageId": "polyglot-notebook"
    }
   },
   "outputs": [
    {
     "data": {
      "text/plain": [
       "appleは150円です。"
      ]
     },
     "metadata": {},
     "output_type": "display_data"
    },
    {
     "data": {
      "text/plain": [
       "orangeは80円です。"
      ]
     },
     "metadata": {},
     "output_type": "display_data"
    },
    {
     "data": {
      "text/plain": [
       "bananaは200円です。"
      ]
     },
     "metadata": {},
     "output_type": "display_data"
    },
    {
     "data": {
      "text/plain": [
       "appleは150円です。"
      ]
     },
     "metadata": {},
     "output_type": "display_data"
    },
    {
     "data": {
      "text/plain": [
       "orangeは80円です。"
      ]
     },
     "metadata": {},
     "output_type": "display_data"
    },
    {
     "data": {
      "text/plain": [
       "bananaは200円です。"
      ]
     },
     "metadata": {},
     "output_type": "display_data"
    }
   ],
   "source": [
    "// ▼ 果物と価格がセットになったマップオブジェクト\n",
    "const map = new Map([\n",
    "  [\"apple\", 150],\n",
    "  [\"orange\", 80],\n",
    "  [\"banana\", 200]\n",
    "]);\n",
    "// ▼ 要素を順番に渡してコールバック関数を実行する。\n",
    "//    value: 値, key：キー, map：マップオブジェクト自身\n",
    "map.forEach((value, key, map) => {\n",
    "  console.log(`${key}は${value}円です。`);\n",
    "});\n",
    "// ▼ 使用しない場合は引数を省略可能\n",
    "map.forEach((value, key) => {\n",
    "  console.log(`${key}は${value}円です。`);\n",
    "});"
   ]
  },
  {
   "cell_type": "code",
   "execution_count": 11,
   "metadata": {
    "dotnet_interactive": {
     "language": "javascript"
    },
    "polyglot_notebook": {
     "kernelName": "javascript"
    },
    "vscode": {
     "languageId": "polyglot-notebook"
    }
   },
   "outputs": [
    {
     "data": {
      "text/plain": [
       "名前は太郎 田中です。年齢はundefinedです。"
      ]
     },
     "metadata": {},
     "output_type": "display_data"
    }
   ],
   "source": [
    "class Person {\n",
    "    constructor(firstName, lastName, age) { // デフォルト値を設定\n",
    "      this.firstName = firstName;\n",
    "      this.lastName = lastName;\n",
    "      this.age = age;\n",
    "    }\n",
    "    introduce() {\n",
    "      console.log(`名前は${this.firstName} ${this.lastName}です。年齢は${this.age}です。`);\n",
    "    }\n",
    "  }\n",
    "  \n",
    "  const person = new Person(\"太郎\", \"田中\");\n",
    "  person.introduce(); // 名前は太郎 田中です。年齢は25です。\n",
    "  "
   ]
  }
 ],
 "metadata": {
  "kernelspec": {
   "display_name": ".NET (C#)",
   "language": "C#",
   "name": ".net-csharp"
  },
  "language_info": {
   "name": "python"
  },
  "polyglot_notebook": {
   "kernelInfo": {
    "defaultKernelName": "csharp",
    "items": [
     {
      "aliases": [],
      "name": "csharp"
     }
    ]
   }
  }
 },
 "nbformat": 4,
 "nbformat_minor": 2
}
